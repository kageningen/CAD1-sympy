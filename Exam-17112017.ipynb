{
 "cells": [
  {
   "cell_type": "code",
   "execution_count": 28,
   "metadata": {},
   "outputs": [],
   "source": [
    "from sympy import *\n",
    "init_printing(use_unicode=True)"
   ]
  },
  {
   "cell_type": "markdown",
   "metadata": {},
   "source": [
    "# Exercice 1\n",
    "## 1.1 Find the solutions to the following equations"
   ]
  },
  {
   "cell_type": "code",
   "execution_count": 29,
   "metadata": {},
   "outputs": [],
   "source": [
    "z, x = symbols('z, x')\n",
    "eq1 = z**2 + 6*z + (1 - 2*I)\n",
    "eq2 = 4*z**2 + 24*z + 37\n",
    "eq3 = 2*sin(5*x/2) - 1\n",
    "eq4 = 3*x**2 + 1 - (x**2+1)**3\n",
    "eq5 = 4*cot(x) * cos(x)**2 - cot(x)"
   ]
  },
  {
   "cell_type": "code",
   "execution_count": 82,
   "metadata": {},
   "outputs": [
    {
     "data": {
      "image/png": "[encoded data removed]",
      "text/latex": [
       "$$\\left [ -3 - \\sqrt{8 + 2 i}, \\quad -3 + \\sqrt{8 + 2 i}\\right ]$$"
      ],
      "text/plain": [
       "⎡       _________         _________⎤\n",
       "⎣-3 - ╲╱ 8 + 2⋅ⅈ , -3 + ╲╱ 8 + 2⋅ⅈ ⎦"
      ]
     },
     "execution_count": 82,
     "metadata": {},
     "output_type": "execute_result"
    }
   ],
   "source": [
    "r1 = solve(eq1,z)\n",
    "r1"
   ]
  },
  {
   "cell_type": "code",
   "execution_count": 81,
   "metadata": {},
   "outputs": [
    {
     "data": {
      "image/png": "[encoded data removed]",
      "text/latex": [
       "$$\\left [ -3 - \\frac{i}{2}, \\quad -3 + \\frac{i}{2}\\right ]$$"
      ],
      "text/plain": [
       "⎡     ⅈ       ⅈ⎤\n",
       "⎢-3 - ─, -3 + ─⎥\n",
       "⎣     2       2⎦"
      ]
     },
     "execution_count": 81,
     "metadata": {},
     "output_type": "execute_result"
    }
   ],
   "source": [
    "r2 = solve(eq2, z)\n",
    "r2"
   ]
  },
  {
   "cell_type": "code",
   "execution_count": 51,
   "metadata": {},
   "outputs": [
    {
     "data": {
      "image/png": "[encoded data removed]",
      "text/latex": [
       "$$\\left [ \\frac{\\pi}{15}, \\quad \\frac{\\pi}{3}\\right ]$$"
      ],
      "text/plain": [
       "⎡π   π⎤\n",
       "⎢──, ─⎥\n",
       "⎣15  3⎦"
      ]
     },
     "execution_count": 51,
     "metadata": {},
     "output_type": "execute_result"
    }
   ],
   "source": [
    "r3 = solve(eq3, x)\n",
    "r3"
   ]
  },
  {
   "cell_type": "code",
   "execution_count": 52,
   "metadata": {},
   "outputs": [
    {
     "data": {
      "image/png": "[encoded data removed]",
      "text/latex": [
       "$$\\left [ \\frac{\\pi}{15}, \\quad \\frac{\\pi}{3}\\right ]$$"
      ],
      "text/plain": [
       "⎡π   π⎤\n",
       "⎢──, ─⎥\n",
       "⎣15  3⎦"
      ]
     },
     "execution_count": 52,
     "metadata": {},
     "output_type": "execute_result"
    }
   ],
   "source": [
    "r3_alt = solve(eq3, sin(5*x/2))\n",
    "r3"
   ]
  },
  {
   "cell_type": "code",
   "execution_count": 84,
   "metadata": {},
   "outputs": [
    {
     "data": {
      "image/png": "[encoded data removed]",
      "text/latex": [
       "$$\\left [ 0, \\quad - \\sqrt{3} i, \\quad \\sqrt{3} i\\right ]$$"
      ],
      "text/plain": [
       "[0, -√3⋅ⅈ, √3⋅ⅈ]"
      ]
     },
     "execution_count": 84,
     "metadata": {},
     "output_type": "execute_result"
    }
   ],
   "source": [
    "r4 = solve(eq4, x)\n",
    "r4"
   ]
  },
  {
   "cell_type": "code",
   "execution_count": 88,
   "metadata": {},
   "outputs": [
    {
     "data": {
      "image/png": "[encoded data removed]",
      "text/latex": [
       "$$\\left [ - \\frac{2 \\pi}{3}, \\quad - \\frac{\\pi}{3}, \\quad \\frac{\\pi}{3}, \\quad \\frac{2 \\pi}{3}\\right ]$$"
      ],
      "text/plain": [
       "⎡-2⋅π   -π   π  2⋅π⎤\n",
       "⎢─────, ───, ─, ───⎥\n",
       "⎣  3     3   3   3 ⎦"
      ]
     },
     "execution_count": 88,
     "metadata": {},
     "output_type": "execute_result"
    }
   ],
   "source": [
    "r5 = solve(eq5, x)\n",
    "r5"
   ]
  },
  {
   "cell_type": "code",
   "execution_count": 57,
   "metadata": {},
   "outputs": [
    {
     "data": {
      "image/png": "[encoded data removed]",
      "text/latex": [
       "$$\\left [ - \\frac{1}{2}, \\quad \\frac{1}{2}\\right ]$$"
      ],
      "text/plain": [
       "[-1/2, 1/2]"
      ]
     },
     "execution_count": 57,
     "metadata": {},
     "output_type": "execute_result"
    }
   ],
   "source": [
    "r5_alt = solve(eq5, cos(x))\n",
    "r5_alt"
   ]
  },
  {
   "cell_type": "markdown",
   "metadata": {},
   "source": [
    "## 1.2 Display the first and second derivatives of the following functions"
   ]
  },
  {
   "cell_type": "code",
   "execution_count": 204,
   "metadata": {},
   "outputs": [
    {
     "data": {
      "image/png": "[encoded data removed]",
      "text/latex": [
       "$$2 \\sin{\\left (2 x \\right )}$$"
      ],
      "text/plain": [
       "2⋅sin(2⋅x)"
      ]
     },
     "execution_count": 204,
     "metadata": {},
     "output_type": "execute_result"
    }
   ],
   "source": [
    "f1 = 2*sin(2*x)\n",
    "f1"
   ]
  },
  {
   "cell_type": "code",
   "execution_count": 58,
   "metadata": {},
   "outputs": [
    {
     "data": {
      "image/png": "[encoded data removed]",
      "text/latex": [
       "$$4 \\cos{\\left (2 x \\right )}$$"
      ],
      "text/plain": [
       "4⋅cos(2⋅x)"
      ]
     },
     "execution_count": 58,
     "metadata": {},
     "output_type": "execute_result"
    }
   ],
   "source": [
    "d1f1 = diff(f1) ## naming convention dnfn = nth derivative of the nth function\n",
    "d2f1 = diff(d1f1)\n",
    "d1f1"
   ]
  },
  {
   "cell_type": "code",
   "execution_count": 59,
   "metadata": {},
   "outputs": [
    {
     "data": {
      "image/png": "[encoded data removed]",
      "text/latex": [
       "$$- 8 \\sin{\\left (2 x \\right )}$$"
      ],
      "text/plain": [
       "-8⋅sin(2⋅x)"
      ]
     },
     "execution_count": 59,
     "metadata": {},
     "output_type": "execute_result"
    }
   ],
   "source": [
    "d2f1"
   ]
  },
  {
   "cell_type": "code",
   "execution_count": 203,
   "metadata": {},
   "outputs": [
    {
     "data": {
      "image/png": "[encoded data removed]",
      "text/latex": [
       "$$\\frac{\\cos{\\left (x \\right )}}{\\cos{\\left (x \\right )} + 1}$$"
      ],
      "text/plain": [
       "  cos(x)  \n",
       "──────────\n",
       "cos(x) + 1"
      ]
     },
     "execution_count": 203,
     "metadata": {},
     "output_type": "execute_result"
    }
   ],
   "source": [
    "f2 = cos(x) / (cos(x) + 1)\n",
    "f2"
   ]
  },
  {
   "cell_type": "code",
   "execution_count": 60,
   "metadata": {},
   "outputs": [
    {
     "data": {
      "image/png": "[encoded data removed]",
      "text/latex": [
       "$$- \\frac{\\sin{\\left (x \\right )}}{\\cos{\\left (x \\right )} + 1} + \\frac{\\sin{\\left (x \\right )} \\cos{\\left (x \\right )}}{\\left(\\cos{\\left (x \\right )} + 1\\right)^{2}}$$"
      ],
      "text/plain": [
       "    sin(x)     sin(x)⋅cos(x)\n",
       "- ────────── + ─────────────\n",
       "  cos(x) + 1               2\n",
       "               (cos(x) + 1) "
      ]
     },
     "execution_count": 60,
     "metadata": {},
     "output_type": "execute_result"
    }
   ],
   "source": [
    "d1f2 = diff(f2)\n",
    "d2f2 = diff(d1f2)\n",
    "d1f2"
   ]
  },
  {
   "cell_type": "code",
   "execution_count": 61,
   "metadata": {},
   "outputs": [
    {
     "data": {
      "image/png": "[encoded data removed]",
      "text/latex": [
       "$$- \\frac{\\cos{\\left (x \\right )}}{\\cos{\\left (x \\right )} + 1} - \\frac{2 \\sin^{2}{\\left (x \\right )}}{\\left(\\cos{\\left (x \\right )} + 1\\right)^{2}} + \\frac{\\cos^{2}{\\left (x \\right )}}{\\left(\\cos{\\left (x \\right )} + 1\\right)^{2}} + \\frac{2 \\sin^{2}{\\left (x \\right )} \\cos{\\left (x \\right )}}{\\left(\\cos{\\left (x \\right )} + 1\\right)^{3}}$$"
      ],
      "text/plain": [
       "                      2              2              2          \n",
       "    cos(x)       2⋅sin (x)        cos (x)      2⋅sin (x)⋅cos(x)\n",
       "- ────────── - ───────────── + ───────────── + ────────────────\n",
       "  cos(x) + 1               2               2                3  \n",
       "               (cos(x) + 1)    (cos(x) + 1)     (cos(x) + 1)   "
      ]
     },
     "execution_count": 61,
     "metadata": {},
     "output_type": "execute_result"
    }
   ],
   "source": [
    "d2f2"
   ]
  },
  {
   "cell_type": "code",
   "execution_count": 205,
   "metadata": {},
   "outputs": [
    {
     "data": {
      "image/png": "[encoded data removed]",
      "text/latex": [
       "$$\\frac{x^{2} + 1}{x \\left(x - 1\\right)^{2}}$$"
      ],
      "text/plain": [
       "   2      \n",
       "  x  + 1  \n",
       "──────────\n",
       "         2\n",
       "x⋅(x - 1) "
      ]
     },
     "execution_count": 205,
     "metadata": {},
     "output_type": "execute_result"
    }
   ],
   "source": [
    "f3 = (x**2 + 1)/(x*(x-1)**2)\n",
    "f3"
   ]
  },
  {
   "cell_type": "code",
   "execution_count": 64,
   "metadata": {},
   "outputs": [
    {
     "data": {
      "image/png": "[encoded data removed]",
      "text/latex": [
       "$$\\frac{2}{\\left(x - 1\\right)^{2}} - \\frac{2 \\left(x^{2} + 1\\right)}{x \\left(x - 1\\right)^{3}} - \\frac{x^{2} + 1}{x^{2} \\left(x - 1\\right)^{2}}$$"
      ],
      "text/plain": [
       "             ⎛ 2    ⎞       2      \n",
       "   2       2⋅⎝x  + 1⎠      x  + 1  \n",
       "──────── - ────────── - ───────────\n",
       "       2            3    2        2\n",
       "(x - 1)    x⋅(x - 1)    x ⋅(x - 1) "
      ]
     },
     "execution_count": 64,
     "metadata": {},
     "output_type": "execute_result"
    }
   ],
   "source": [
    "d1f3 = diff(f3)\n",
    "d2f3 = diff(d1f3)\n",
    "d1f3"
   ]
  },
  {
   "cell_type": "code",
   "execution_count": 65,
   "metadata": {},
   "outputs": [
    {
     "data": {
      "image/png": "[encoded data removed]",
      "text/latex": [
       "$$- \\frac{8}{\\left(x - 1\\right)^{3}} - \\frac{2}{x \\left(x - 1\\right)^{2}} + \\frac{6 \\left(x^{2} + 1\\right)}{x \\left(x - 1\\right)^{4}} + \\frac{4 \\left(x^{2} + 1\\right)}{x^{2} \\left(x - 1\\right)^{3}} + \\frac{2 \\left(x^{2} + 1\\right)}{x^{3} \\left(x - 1\\right)^{2}}$$"
      ],
      "text/plain": [
       "                            ⎛ 2    ⎞      ⎛ 2    ⎞      ⎛ 2    ⎞\n",
       "     8           2        6⋅⎝x  + 1⎠    4⋅⎝x  + 1⎠    2⋅⎝x  + 1⎠\n",
       "- ──────── - ────────── + ────────── + ─────────── + ───────────\n",
       "         3            2            4    2        3    3        2\n",
       "  (x - 1)    x⋅(x - 1)    x⋅(x - 1)    x ⋅(x - 1)    x ⋅(x - 1) "
      ]
     },
     "execution_count": 65,
     "metadata": {},
     "output_type": "execute_result"
    }
   ],
   "source": [
    "d2f3"
   ]
  },
  {
   "cell_type": "markdown",
   "metadata": {},
   "source": [
    "## 1.3 Integrate the first derivative of the above equations"
   ]
  },
  {
   "cell_type": "code",
   "execution_count": 67,
   "metadata": {},
   "outputs": [
    {
     "data": {
      "image/png": "[encoded data removed]",
      "text/latex": [
       "$$2 \\sin{\\left (2 x \\right )}$$"
      ],
      "text/plain": [
       "2⋅sin(2⋅x)"
      ]
     },
     "execution_count": 67,
     "metadata": {},
     "output_type": "execute_result"
    }
   ],
   "source": [
    "integrate(d1f1)"
   ]
  },
  {
   "cell_type": "code",
   "execution_count": 80,
   "metadata": {},
   "outputs": [
    {
     "data": {
      "image/png": "[encoded data removed]",
      "text/latex": [
       "$$- \\frac{1}{\\cos{\\left (x \\right )} + 1}$$"
      ],
      "text/plain": [
       "   -1     \n",
       "──────────\n",
       "cos(x) + 1"
      ]
     },
     "execution_count": 80,
     "metadata": {},
     "output_type": "execute_result"
    }
   ],
   "source": [
    "simplify(integrate(d1f2))"
   ]
  },
  {
   "cell_type": "code",
   "execution_count": 73,
   "metadata": {},
   "outputs": [
    {
     "data": {
      "image/png": "[encoded data removed]",
      "text/latex": [
       "$$\\frac{x^{2} + 1}{x \\left(x^{2} - 2 x + 1\\right)}$$"
      ],
      "text/plain": [
       "      2         \n",
       "     x  + 1     \n",
       "────────────────\n",
       "  ⎛ 2          ⎞\n",
       "x⋅⎝x  - 2⋅x + 1⎠"
      ]
     },
     "execution_count": 73,
     "metadata": {},
     "output_type": "execute_result"
    }
   ],
   "source": [
    "simplify(integrate(d1f3))"
   ]
  },
  {
   "cell_type": "markdown",
   "metadata": {},
   "source": [
    "## 1.4 Plot sin(nx) for n [1,3] in the same plot with different colours for each curve"
   ]
  },
  {
   "cell_type": "code",
   "execution_count": 91,
   "metadata": {},
   "outputs": [
    {
     "data": {
      "image/png": "[encoded data removed]",
      "text/latex": [
       "$$\\left [ \\sin{\\left (x \\right )}, \\quad \\sin{\\left (2 x \\right )}, \\quad \\sin{\\left (3 x \\right )}\\right ]$$"
      ],
      "text/plain": [
       "[sin(x), sin(2⋅x), sin(3⋅x)]"
      ]
     },
     "execution_count": 91,
     "metadata": {},
     "output_type": "execute_result"
    }
   ],
   "source": [
    "sin_list = [sin(n*x) for n in range(1,4)]\n",
    "sin_list"
   ]
  },
  {
   "cell_type": "code",
   "execution_count": 107,
   "metadata": {},
   "outputs": [
    {
     "data": {
      "image/png": "[encoded data removed]",
      "text/plain": [
       "<matplotlib.figure.Figure at 0x7f806e2955c0>"
      ]
     },
     "metadata": {},
     "output_type": "display_data"
    }
   ],
   "source": [
    "sin_plot = plot(*sin_list, legend=True, show=False)\n",
    "sin_plot[0].line_color = 'r'\n",
    "sin_plot[1].line_color = 'g'\n",
    "sin_plot[2].line_color = 'b'\n",
    "\n",
    "sin_plot.show()"
   ]
  },
  {
   "cell_type": "markdown",
   "metadata": {},
   "source": [
    "# Exercice 2\n",
    "## 2.1 Plot E = (V**2) / (2*g) + y with Q/A = V"
   ]
  },
  {
   "cell_type": "code",
   "execution_count": 194,
   "metadata": {},
   "outputs": [
    {
     "data": {
      "image/png": "[encoded data removed]",
      "text/latex": [
       "$$y + \\frac{Q^{2}}{2 A^{2} g}$$"
      ],
      "text/plain": [
       "       2  \n",
       "      Q   \n",
       "y + ──────\n",
       "       2  \n",
       "    2⋅A ⋅g"
      ]
     },
     "execution_count": 194,
     "metadata": {},
     "output_type": "execute_result"
    }
   ],
   "source": [
    "A, Q, g, y = symbols('A, Q, g, y')\n",
    "E = ((Q/A)**2)/(2*g) + y\n",
    "E"
   ]
  },
  {
   "cell_type": "markdown",
   "metadata": {},
   "source": [
    "## 2.2 Knowing that A = b * y, where b is the bottom width and y is the flow depth, calculate the energy for (Q = 30m**3/s, g = 9.81 m/s**2, b = 10 m & y = 2.4m)"
   ]
  },
  {
   "cell_type": "code",
   "execution_count": 196,
   "metadata": {},
   "outputs": [
    {
     "data": {
      "image/png": "[encoded data removed]",
      "text/latex": [
       "$$2.4796381243629$$"
      ],
      "text/plain": [
       "2.47963812436290"
      ]
     },
     "execution_count": 196,
     "metadata": {},
     "output_type": "execute_result"
    }
   ],
   "source": [
    "b = symbols('b')\n",
    "E1 = E.subs({A: b*y})\n",
    "E1_res = E1.subs({Q: 30, g: 9.81, b: 10, y:2.4})\n",
    "E1_res"
   ]
  },
  {
   "cell_type": "markdown",
   "metadata": {},
   "source": [
    "## 2.3 Given the answer you obtained from 2.2 and given Q, g and b. Find y"
   ]
  },
  {
   "cell_type": "code",
   "execution_count": 216,
   "metadata": {},
   "outputs": [],
   "source": [
    "E2 = E1.subs({Q: 30, g: 9.81, b: 10})"
   ]
  },
  {
   "cell_type": "markdown",
   "metadata": {},
   "source": [
    "## 2.4 Find the equation of critical depth"
   ]
  },
  {
   "cell_type": "code",
   "execution_count": null,
   "metadata": {},
   "outputs": [],
   "source": []
  },
  {
   "cell_type": "markdown",
   "metadata": {},
   "source": [
    "## 2.5 Using the values in 2.2, find the critical depth for a rectangular channel flow"
   ]
  },
  {
   "cell_type": "code",
   "execution_count": 121,
   "metadata": {},
   "outputs": [],
   "source": []
  },
  {
   "cell_type": "markdown",
   "metadata": {},
   "source": [
    "# 3 Linear algebra\n",
    "## 3.1 Find the solution to the follow system using: \n",
    "* linear system solutions\n",
    "* matrix operations\n",
    "* least square solutions"
   ]
  },
  {
   "cell_type": "code",
   "execution_count": 190,
   "metadata": {},
   "outputs": [
    {
     "data": {
      "image/png": "[encoded data removed]",
      "text/latex": [
       "$$\\left\\{\\left ( - \\frac{13}{12}, \\quad \\frac{28}{3}, \\quad \\frac{41}{12}, \\quad - \\frac{11}{2}\\right )\\right\\}$$"
      ],
      "text/plain": [
       "⎧⎛-13         41       ⎞⎫\n",
       "⎨⎜────, 28/3, ──, -11/2⎟⎬\n",
       "⎩⎝ 12         12       ⎠⎭"
      ]
     },
     "execution_count": 190,
     "metadata": {},
     "output_type": "execute_result"
    }
   ],
   "source": [
    "x1, x2, x3, x4 = symbols('x1,x2,x3,x4')\n",
    "\n",
    "# Linear system solutions\n",
    "EQ1 = 4*x1 + 3*x2 + 2*x3 + x4 - 25\n",
    "EQ2 = -x3 + x2 - x1 - 7\n",
    "EQ3 = 3*x2 + 2*x4 - 17\n",
    "EQ4 = 2*x2 + 2*x3 + x4 - 20\n",
    "\n",
    "linsolve([EQ1, EQ2, EQ3, EQ4], (x1, x2, x3,x4))\n"
   ]
  },
  {
   "cell_type": "code",
   "execution_count": 191,
   "metadata": {},
   "outputs": [
    {
     "data": {
      "text/latex": [
       "$$\\left[\\begin{matrix}- \\frac{13}{12}\\\\\\frac{28}{3}\\\\\\frac{41}{12}\\\\- \\frac{11}{2}\\end{matrix}\\right]$$"
      ],
      "text/plain": [
       "⎡-13  ⎤\n",
       "⎢──── ⎥\n",
       "⎢ 12  ⎥\n",
       "⎢     ⎥\n",
       "⎢28/3 ⎥\n",
       "⎢     ⎥\n",
       "⎢ 41  ⎥\n",
       "⎢ ──  ⎥\n",
       "⎢ 12  ⎥\n",
       "⎢     ⎥\n",
       "⎣-11/2⎦"
      ]
     },
     "execution_count": 191,
     "metadata": {},
     "output_type": "execute_result"
    }
   ],
   "source": [
    "# Matrix operations\n",
    "X = Matrix([x1, x2, x3, x4])\n",
    "A0 = Matrix([[4, 3, 2, 1], [-1, 1,-1, 0], [0, 3, 0, 2], [0, 2, 2, 1]])\n",
    "B = Matrix([25, 7, 17, 20])\n",
    "A0.inv()*B"
   ]
  },
  {
   "cell_type": "code",
   "execution_count": 192,
   "metadata": {},
   "outputs": [
    {
     "data": {
      "text/latex": [
       "$$\\left[\\begin{matrix}- \\frac{13}{12}\\\\\\frac{28}{3}\\\\\\frac{41}{12}\\\\- \\frac{11}{2}\\end{matrix}\\right]$$"
      ],
      "text/plain": [
       "⎡-13  ⎤\n",
       "⎢──── ⎥\n",
       "⎢ 12  ⎥\n",
       "⎢     ⎥\n",
       "⎢28/3 ⎥\n",
       "⎢     ⎥\n",
       "⎢ 41  ⎥\n",
       "⎢ ──  ⎥\n",
       "⎢ 12  ⎥\n",
       "⎢     ⎥\n",
       "⎣-11/2⎦"
      ]
     },
     "execution_count": 192,
     "metadata": {},
     "output_type": "execute_result"
    }
   ],
   "source": [
    "# least-square sultions\n",
    "simplify(A0.solve_least_squares(B))"
   ]
  },
  {
   "cell_type": "markdown",
   "metadata": {},
   "source": [
    "## 3.2 For which values of t is A not invertible?"
   ]
  },
  {
   "cell_type": "code",
   "execution_count": 193,
   "metadata": {},
   "outputs": [
    {
     "data": {
      "text/latex": [
       "$$\\left[\\begin{matrix}1 & 4 & t\\\\t - 1 & 6 & t\\\\2 & 9 & t^{2}\\end{matrix}\\right]$$"
      ],
      "text/plain": [
       "⎡  1    4  t ⎤\n",
       "⎢            ⎥\n",
       "⎢t - 1  6  t ⎥\n",
       "⎢            ⎥\n",
       "⎢           2⎥\n",
       "⎣  2    9  t ⎦"
      ]
     },
     "execution_count": 193,
     "metadata": {},
     "output_type": "execute_result"
    }
   ],
   "source": [
    "t = symbols('t')\n",
    "A1 = Matrix([[1, 4, t], [t-1, 6, t], [2, 9, t**2]])\n",
    "A1"
   ]
  },
  {
   "cell_type": "code",
   "execution_count": 165,
   "metadata": {},
   "outputs": [
    {
     "data": {
      "image/png": "[encoded data removed]",
      "text/latex": [
       "$$\\left [ 0, \\quad 2, \\quad \\frac{11}{4}\\right ]$$"
      ],
      "text/plain": [
       "[0, 2, 11/4]"
      ]
     },
     "execution_count": 165,
     "metadata": {},
     "output_type": "execute_result"
    }
   ],
   "source": [
    "solve(A1.det(), t) ## We're looking for values of t such that the determinant is 0\n",
    "## matrices are invertible only if their determinant is different than 0"
   ]
  },
  {
   "cell_type": "markdown",
   "metadata": {},
   "source": [
    "## 3.3 Considering A matrix, find the eigenvalues and eigenvectors"
   ]
  },
  {
   "cell_type": "code",
   "execution_count": 178,
   "metadata": {},
   "outputs": [
    {
     "data": {
      "image/png": "[encoded data removed]",
      "text/latex": [
       "$$\\left [ \\sqrt{14} + 4, \\quad - \\sqrt{14} + 4, \\quad -1\\right ]$$"
      ],
      "text/plain": [
       "[√14 + 4, -√14 + 4, -1]"
      ]
     },
     "execution_count": 178,
     "metadata": {},
     "output_type": "execute_result"
    }
   ],
   "source": [
    "A2 = Matrix([[1,2,3],[1,1,6], [1,2,5]])\n",
    "list(A2.eigenvals())"
   ]
  },
  {
   "cell_type": "code",
   "execution_count": 183,
   "metadata": {},
   "outputs": [
    {
     "data": {
      "text/latex": [
       "$$\\left [ \\left ( -1, \\quad 1, \\quad \\left [ \\left[\\begin{matrix}3\\\\- \\frac{9}{2}\\\\1\\end{matrix}\\right]\\right ]\\right ), \\quad \\left ( - \\sqrt{14} + 4, \\quad 1, \\quad \\left [ \\left[\\begin{matrix}- \\frac{- 12 \\sqrt{14} + 3 \\left(-3 + \\sqrt{14}\\right)^{2} + 36}{\\left(-3 + \\sqrt{14}\\right) \\left(-2 + \\left(-3 + \\sqrt{14}\\right)^{2}\\right)}\\\\- \\frac{-21 + 6 \\sqrt{14}}{-2 + \\left(-3 + \\sqrt{14}\\right)^{2}}\\\\1\\end{matrix}\\right]\\right ]\\right ), \\quad \\left ( \\sqrt{14} + 4, \\quad 1, \\quad \\left [ \\left[\\begin{matrix}- \\frac{36 + 12 \\sqrt{14} + 3 \\left(- \\sqrt{14} - 3\\right)^{2}}{\\left(-2 + \\left(- \\sqrt{14} - 3\\right)^{2}\\right) \\left(- \\sqrt{14} - 3\\right)}\\\\- \\frac{- 6 \\sqrt{14} - 21}{-2 + \\left(- \\sqrt{14} - 3\\right)^{2}}\\\\1\\end{matrix}\\right]\\right ]\\right )\\right ]$$"
      ],
      "text/plain": [
       "⎡                   ⎛             ⎡⎡ ⎛                      2     ⎞ ⎤⎤⎞  ⎛    \n",
       "⎢                   ⎜             ⎢⎢-⎝-12⋅√14 + 3⋅(-3 + √14)  + 36⎠ ⎥⎥⎟  ⎜    \n",
       "⎢                   ⎜             ⎢⎢────────────────────────────────⎥⎥⎟  ⎜    \n",
       "⎢                   ⎜             ⎢⎢            ⎛               2⎞  ⎥⎥⎟  ⎜    \n",
       "⎢⎛       ⎡⎡ 3  ⎤⎤⎞  ⎜             ⎢⎢ (-3 + √14)⋅⎝-2 + (-3 + √14) ⎠  ⎥⎥⎟  ⎜    \n",
       "⎢⎜       ⎢⎢    ⎥⎥⎟  ⎜             ⎢⎢                                ⎥⎥⎟  ⎜    \n",
       "⎢⎜-1, 1, ⎢⎢-9/2⎥⎥⎟, ⎜-√14 + 4, 1, ⎢⎢        -(-21 + 6⋅√14)          ⎥⎥⎟, ⎜√14 \n",
       "⎢⎜       ⎢⎢    ⎥⎥⎟  ⎜             ⎢⎢        ────────────────        ⎥⎥⎟  ⎜    \n",
       "⎢⎝       ⎣⎣ 1  ⎦⎦⎠  ⎜             ⎢⎢                       2        ⎥⎥⎟  ⎜    \n",
       "⎢                   ⎜             ⎢⎢        -2 + (-3 + √14)         ⎥⎥⎟  ⎜    \n",
       "⎢                   ⎜             ⎢⎢                                ⎥⎥⎟  ⎜    \n",
       "⎣                   ⎝             ⎣⎣               1                ⎦⎦⎠  ⎝    \n",
       "\n",
       "        ⎡⎡ ⎛                          2⎞ ⎤⎤⎞⎤\n",
       "        ⎢⎢-⎝36 + 12⋅√14 + 3⋅(-√14 - 3) ⎠ ⎥⎥⎟⎥\n",
       "        ⎢⎢───────────────────────────────⎥⎥⎟⎥\n",
       "        ⎢⎢ ⎛               2⎞            ⎥⎥⎟⎥\n",
       "        ⎢⎢ ⎝-2 + (-√14 - 3) ⎠⋅(-√14 - 3) ⎥⎥⎟⎥\n",
       "        ⎢⎢                               ⎥⎥⎟⎥\n",
       "+ 4, 1, ⎢⎢       -(-6⋅√14 - 21)          ⎥⎥⎟⎥\n",
       "        ⎢⎢       ────────────────        ⎥⎥⎟⎥\n",
       "        ⎢⎢                      2        ⎥⎥⎟⎥\n",
       "        ⎢⎢       -2 + (-√14 - 3)         ⎥⎥⎟⎥\n",
       "        ⎢⎢                               ⎥⎥⎟⎥\n",
       "        ⎣⎣               1               ⎦⎦⎠⎦"
      ]
     },
     "execution_count": 183,
     "metadata": {},
     "output_type": "execute_result"
    }
   ],
   "source": [
    "A2.eigenvects()"
   ]
  },
  {
   "cell_type": "markdown",
   "metadata": {},
   "source": [
    "# Exercice 4 - Fourier Series (extra)\n",
    "## Find the Fourier coefficients of f(t) = t**2 over [-2,2]. Is the function even or odd? Plot it "
   ]
  },
  {
   "cell_type": "code",
   "execution_count": 223,
   "metadata": {},
   "outputs": [],
   "source": [
    "P,n = symbols('P, n')\n",
    "ft = t**2"
   ]
  },
  {
   "cell_type": "code",
   "execution_count": 243,
   "metadata": {},
   "outputs": [
    {
     "data": {
      "image/png": "[encoded data removed]",
      "text/plain": [
       "<matplotlib.figure.Figure at 0x7f806e4e1390>"
      ]
     },
     "metadata": {},
     "output_type": "display_data"
    },
    {
     "data": {
      "text/plain": [
       "<sympy.plotting.plot.Plot at 0x7f806e2e1e10>"
      ]
     },
     "execution_count": 243,
     "metadata": {},
     "output_type": "execute_result"
    }
   ],
   "source": [
    "plot(ft, (t, -2, 2))"
   ]
  },
  {
   "cell_type": "code",
   "execution_count": 247,
   "metadata": {},
   "outputs": [
    {
     "data": {
      "image/png": "[encoded data removed]",
      "text/latex": [
       "$$\\int_{-1}^{1} t^{2} \\cos{\\left (\\pi n t \\right )}\\, dt$$"
      ],
      "text/plain": [
       "1                  \n",
       "⌠                  \n",
       "⎮   2              \n",
       "⎮  t ⋅cos(π⋅n⋅t) dt\n",
       "⌡                  \n",
       "-1                 "
      ]
     },
     "execution_count": 247,
     "metadata": {},
     "output_type": "execute_result"
    }
   ],
   "source": [
    "an = 2/P*integrate(ft*cos((2*n*pi*t)/P), (t, -P/2, P/2))\n",
    "simplify(an.subs({P:2}))"
   ]
  },
  {
   "cell_type": "code",
   "execution_count": 248,
   "metadata": {},
   "outputs": [
    {
     "data": {
      "image/png": "[encoded data removed]",
      "text/latex": [
       "$$\\int_{-1}^{1} t^{2} \\sin{\\left (\\pi n t \\right )}\\, dt$$"
      ],
      "text/plain": [
       "1                  \n",
       "⌠                  \n",
       "⎮   2              \n",
       "⎮  t ⋅sin(π⋅n⋅t) dt\n",
       "⌡                  \n",
       "-1                 "
      ]
     },
     "execution_count": 248,
     "metadata": {},
     "output_type": "execute_result"
    }
   ],
   "source": [
    "bn = 2/P*integrate(ft*sin((2*n*pi*t)/P), (t, -P/2, P/2))\n",
    "simplify(bn.subs({P:2}))"
   ]
  },
  {
   "cell_type": "code",
   "execution_count": null,
   "metadata": {},
   "outputs": [],
   "source": []
  }
 ],
 "metadata": {
  "kernelspec": {
   "display_name": "Python 3",
   "language": "python",
   "name": "python3"
  },
  "language_info": {
   "codemirror_mode": {
    "name": "ipython",
    "version": 3
   },
   "file_extension": ".py",
   "mimetype": "text/x-python",
   "name": "python",
   "nbconvert_exporter": "python",
   "pygments_lexer": "ipython3",
   "version": "3.5.2"
  }
 },
 "nbformat": 4,
 "nbformat_minor": 2
}

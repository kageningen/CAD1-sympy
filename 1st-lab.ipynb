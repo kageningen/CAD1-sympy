{
 "cells": [
  {
   "cell_type": "code",
   "execution_count": 4,
   "metadata": {},
   "outputs": [
    {
     "data": {
      "text/plain": [
       "2"
      ]
     },
     "execution_count": 4,
     "metadata": {},
     "output_type": "execute_result"
    }
   ],
   "source": [
    "1+1"
   ]
  },
  {
   "cell_type": "code",
   "execution_count": 1,
   "metadata": {
    "collapsed": true
   },
   "outputs": [],
   "source": [
    "import math\n",
    "import sympy as sym"
   ]
  },
  {
   "cell_type": "code",
   "execution_count": 7,
   "metadata": {},
   "outputs": [
    {
     "data": {
      "text/plain": [
       "100"
      ]
     },
     "execution_count": 7,
     "metadata": {},
     "output_type": "execute_result"
    }
   ],
   "source": [
    "10**2"
   ]
  },
  {
   "cell_type": "code",
   "execution_count": 10,
   "metadata": {},
   "outputs": [
    {
     "data": {
      "text/plain": [
       "0.9129452507276277"
      ]
     },
     "execution_count": 10,
     "metadata": {},
     "output_type": "execute_result"
    }
   ],
   "source": [
    "math.sin(20)"
   ]
  },
  {
   "cell_type": "code",
   "execution_count": 9,
   "metadata": {},
   "outputs": [
    {
     "data": {
      "text/plain": [
       "sin(20)"
      ]
     },
     "execution_count": 9,
     "metadata": {},
     "output_type": "execute_result"
    }
   ],
   "source": [
    "sym.sin(20)"
   ]
  },
  {
   "cell_type": "code",
   "execution_count": 16,
   "metadata": {},
   "outputs": [
    {
     "data": {
      "text/plain": [
       "-1"
      ]
     },
     "execution_count": 16,
     "metadata": {},
     "output_type": "execute_result"
    }
   ],
   "source": [
    "sym.I **2"
   ]
  },
  {
   "cell_type": "code",
   "execution_count": 17,
   "metadata": {},
   "outputs": [
    {
     "data": {
      "text/plain": [
       "2*sqrt(5)*I"
      ]
     },
     "execution_count": 17,
     "metadata": {},
     "output_type": "execute_result"
    }
   ],
   "source": [
    "sym.sqrt(-20)"
   ]
  },
  {
   "cell_type": "code",
   "execution_count": 26,
   "metadata": {},
   "outputs": [
    {
     "name": "stdout",
     "output_type": "stream",
     "text": [
      "17\n"
     ]
    },
    {
     "data": {
      "text/plain": [
       "True"
      ]
     },
     "execution_count": 26,
     "metadata": {},
     "output_type": "execute_result"
    }
   ],
   "source": [
    "lazysod = 17\n",
    "print(lazysod)\n",
    "sym.isprime(lazysod)"
   ]
  },
  {
   "cell_type": "code",
   "execution_count": 39,
   "metadata": {
    "scrolled": true
   },
   "outputs": [
    {
     "data": {
      "text/plain": [
       "[5, 11, 17]"
      ]
     },
     "execution_count": 39,
     "metadata": {},
     "output_type": "execute_result"
    }
   ],
   "source": [
    "sym.primefactors(55*lazysod)"
   ]
  },
  {
   "cell_type": "code",
   "execution_count": 40,
   "metadata": {},
   "outputs": [
    {
     "data": {
      "text/plain": [
       "{5: 1, 11: 1, 17: 1}"
      ]
     },
     "execution_count": 40,
     "metadata": {},
     "output_type": "execute_result"
    }
   ],
   "source": [
    "sym.factorint(55*lazysod)"
   ]
  },
  {
   "cell_type": "code",
   "execution_count": 62,
   "metadata": {
    "collapsed": true
   },
   "outputs": [],
   "source": [
    "x = sym.symbols('x')"
   ]
  },
  {
   "cell_type": "code",
   "execution_count": 63,
   "metadata": {},
   "outputs": [
    {
     "data": {
      "text/plain": [
       "1/((x**2 - 1)*(x**2 + 2*x + 1))"
      ]
     },
     "execution_count": 63,
     "metadata": {},
     "output_type": "execute_result"
    }
   ],
   "source": [
    "x**2 + 2* x +1\n",
    "1/( (x**2+2*x+1)*(x**2-1) )"
   ]
  },
  {
   "cell_type": "code",
   "execution_count": 64,
   "metadata": {
    "scrolled": true
   },
   "outputs": [
    {
     "data": {
      "text/plain": [
       "-1/(8*(x + 1)) - 1/(4*(x + 1)**2) - 1/(2*(x + 1)**3) + 1/(8*(x - 1))"
      ]
     },
     "execution_count": 64,
     "metadata": {},
     "output_type": "execute_result"
    }
   ],
   "source": [
    "sym.apart(1/( (x**2+2*x+1)*(x**2-1) ))"
   ]
  },
  {
   "cell_type": "code",
   "execution_count": 65,
   "metadata": {
    "collapsed": true
   },
   "outputs": [],
   "source": [
    "x, y, z = sym.symbols('x, y, z')"
   ]
  },
  {
   "cell_type": "code",
   "execution_count": 66,
   "metadata": {
    "collapsed": true
   },
   "outputs": [],
   "source": [
    "expr = x + y + z"
   ]
  },
  {
   "cell_type": "code",
   "execution_count": 67,
   "metadata": {},
   "outputs": [
    {
     "data": {
      "text/plain": [
       "2*x + 2*y + 2*z"
      ]
     },
     "execution_count": 67,
     "metadata": {},
     "output_type": "execute_result"
    }
   ],
   "source": [
    "2 * expr"
   ]
  },
  {
   "cell_type": "code",
   "execution_count": 68,
   "metadata": {},
   "outputs": [
    {
     "data": {
      "text/plain": [
       "4*x + 4"
      ]
     },
     "execution_count": 68,
     "metadata": {},
     "output_type": "execute_result"
    }
   ],
   "source": [
    "2 * expr.subs({z:x, y:2})"
   ]
  },
  {
   "cell_type": "code",
   "execution_count": 69,
   "metadata": {
    "collapsed": true
   },
   "outputs": [],
   "source": [
    "expr2 = expr.subs({z:x, y:2})"
   ]
  },
  {
   "cell_type": "code",
   "execution_count": 70,
   "metadata": {},
   "outputs": [
    {
     "data": {
      "text/plain": [
       "2*(x + 1)"
      ]
     },
     "execution_count": 70,
     "metadata": {},
     "output_type": "execute_result"
    }
   ],
   "source": [
    "expr2.factor()"
   ]
  },
  {
   "cell_type": "code",
   "execution_count": 71,
   "metadata": {
    "collapsed": true
   },
   "outputs": [],
   "source": [
    "a, b, c = sym.symbols('a, b, c')"
   ]
  },
  {
   "cell_type": "code",
   "execution_count": 72,
   "metadata": {
    "collapsed": true
   },
   "outputs": [],
   "source": [
    "expr3 = (a+b)**3"
   ]
  },
  {
   "cell_type": "code",
   "execution_count": 73,
   "metadata": {},
   "outputs": [
    {
     "data": {
      "text/plain": [
       "(a + b)**3"
      ]
     },
     "execution_count": 73,
     "metadata": {},
     "output_type": "execute_result"
    }
   ],
   "source": [
    "expr3"
   ]
  },
  {
   "cell_type": "code",
   "execution_count": 74,
   "metadata": {},
   "outputs": [
    {
     "data": {
      "text/plain": [
       "a**3 + 3*a**2*b + 3*a*b**2 + b**3"
      ]
     },
     "execution_count": 74,
     "metadata": {},
     "output_type": "execute_result"
    }
   ],
   "source": [
    "expr3.expand()"
   ]
  },
  {
   "cell_type": "code",
   "execution_count": 75,
   "metadata": {
    "collapsed": true
   },
   "outputs": [],
   "source": [
    "sym.init_printing(use_unicode=True)"
   ]
  },
  {
   "cell_type": "code",
   "execution_count": 79,
   "metadata": {},
   "outputs": [
    {
     "data": {
      "image/png": "[encoded data removed]",
      "text/latex": [
       "$$1$$"
      ],
      "text/plain": [
       "1"
      ]
     },
     "execution_count": 79,
     "metadata": {},
     "output_type": "execute_result"
    }
   ],
   "source": [
    "sym.simplify(sym.sin(x)**2 + sym.cos(x)**2)"
   ]
  },
  {
   "cell_type": "code",
   "execution_count": 83,
   "metadata": {},
   "outputs": [
    {
     "name": "stdout",
     "output_type": "stream",
     "text": [
      "sin(x)**2 + 2*sin(x)*cos(x) + cos(x)**2\n"
     ]
    }
   ],
   "source": [
    "expr4 = sym.expand((sym.cos(x) + sym.sin(x))**2)\n",
    "print(expr4)"
   ]
  },
  {
   "cell_type": "code",
   "execution_count": 84,
   "metadata": {},
   "outputs": [
    {
     "data": {
      "image/png": "[encoded data removed]",
      "text/latex": [
       "$$\\left(\\sin{\\left (x \\right )} + \\cos{\\left (x \\right )}\\right)^{2}$$"
      ],
      "text/plain": [
       "                 2\n",
       "(sin(x) + cos(x)) "
      ]
     },
     "execution_count": 84,
     "metadata": {},
     "output_type": "execute_result"
    }
   ],
   "source": [
    "expr4.factor()"
   ]
  },
  {
   "cell_type": "code",
   "execution_count": 85,
   "metadata": {},
   "outputs": [
    {
     "data": {
      "image/png": "[encoded data removed]",
      "text/latex": [
       "$$\\frac{e^{i x}}{2} + \\frac{1}{2} e^{- i x}$$"
      ],
      "text/plain": [
       " ⅈ⋅x    -ⅈ⋅x\n",
       "ℯ      ℯ    \n",
       "──── + ─────\n",
       " 2       2  "
      ]
     },
     "execution_count": 85,
     "metadata": {},
     "output_type": "execute_result"
    }
   ],
   "source": [
    "sym.cos(x).rewrite(sym.cos, sym.exp)"
   ]
  },
  {
   "cell_type": "code",
   "execution_count": 86,
   "metadata": {},
   "outputs": [
    {
     "data": {
      "image/png": "[encoded data removed]",
      "text/latex": [
       "$$i \\sin{\\left (x \\right )} + \\cos{\\left (x \\right )}$$"
      ],
      "text/plain": [
       "ⅈ⋅sin(x) + cos(x)"
      ]
     },
     "execution_count": 86,
     "metadata": {},
     "output_type": "execute_result"
    }
   ],
   "source": [
    "sym.exp(sym.I * x).rewrite(sym.exp, sym.sin)"
   ]
  },
  {
   "cell_type": "code",
   "execution_count": 87,
   "metadata": {},
   "outputs": [
    {
     "data": {
      "image/png": "[encoded data removed]",
      "text/latex": [
       "$$\\left [ - \\frac{3}{2} + \\frac{\\sqrt{17}}{2}, \\quad - \\frac{\\sqrt{17}}{2} - \\frac{3}{2}\\right ]$$"
      ],
      "text/plain": [
       "⎡  3   √17    √17   3⎤\n",
       "⎢- ─ + ───, - ─── - ─⎥\n",
       "⎣  2    2      2    2⎦"
      ]
     },
     "execution_count": 87,
     "metadata": {},
     "output_type": "execute_result"
    }
   ],
   "source": [
    "sym.solve(x**2+3*x-2,x)"
   ]
  },
  {
   "cell_type": "code",
   "execution_count": 88,
   "metadata": {},
   "outputs": [
    {
     "data": {
      "image/png": "[encoded data removed]",
      "text/latex": [
       "$$\\left\\{- \\frac{3}{2} + \\frac{\\sqrt{17}}{2}, - \\frac{\\sqrt{17}}{2} - \\frac{3}{2}\\right\\}$$"
      ],
      "text/plain": [
       "⎧  3   √17    √17   3⎫\n",
       "⎨- ─ + ───, - ─── - ─⎬\n",
       "⎩  2    2      2    2⎭"
      ]
     },
     "execution_count": 88,
     "metadata": {},
     "output_type": "execute_result"
    }
   ],
   "source": [
    "sym.solveset(x**2+3*x-2,x)"
   ]
  },
  {
   "cell_type": "code",
   "execution_count": 89,
   "metadata": {},
   "outputs": [
    {
     "data": {
      "image/png": "[encoded data removed]",
      "text/latex": [
       "$$\\left\\{x\\; |\\; x \\in \\mathbb{C} \\wedge - x + \\cos{\\left (x \\right )} = 0 \\right\\}$$"
      ],
      "text/plain": [
       "{x | x ∊ ℂ ∧ -x + cos(x) = 0}"
      ]
     },
     "execution_count": 89,
     "metadata": {},
     "output_type": "execute_result"
    }
   ],
   "source": [
    "sym.solveset(sym.cos(x) -x, x)"
   ]
  },
  {
   "cell_type": "code",
   "execution_count": 90,
   "metadata": {},
   "outputs": [
    {
     "data": {
      "image/png": "[encoded data removed]",
      "text/latex": [
       "$$\\left\\{2 n \\pi\\; |\\; n \\in \\mathbb{Z}\\right\\}$$"
      ],
      "text/plain": [
       "{2⋅n⋅π | n ∊ ℤ}"
      ]
     },
     "execution_count": 90,
     "metadata": {},
     "output_type": "execute_result"
    }
   ],
   "source": [
    "sym.solveset(2-sym.cos(x)-1, x)"
   ]
  },
  {
   "cell_type": "code",
   "execution_count": 99,
   "metadata": {},
   "outputs": [
    {
     "data": {
      "image/png": "[encoded data removed]",
      "text/latex": [
       "$$\\left [ - \\frac{1}{2} \\sqrt{4 y + 17} - \\frac{3}{2}, \\quad \\frac{1}{2} \\sqrt{4 y + 17} - \\frac{3}{2}\\right ]$$"
      ],
      "text/plain": [
       "⎡    __________        __________    ⎤\n",
       "⎢  ╲╱ 4⋅y + 17    3  ╲╱ 4⋅y + 17    3⎥\n",
       "⎢- ──────────── - ─, ──────────── - ─⎥\n",
       "⎣       2         2       2         2⎦"
      ]
     },
     "execution_count": 99,
     "metadata": {},
     "output_type": "execute_result"
    }
   ],
   "source": [
    "sym.solve(x**2+x*3-2-y, x)"
   ]
  },
  {
   "cell_type": "code",
   "execution_count": 97,
   "metadata": {},
   "outputs": [
    {
     "data": {
      "image/png": "[encoded data removed]",
      "text/latex": [
       "$$x^{2} + 3 x - 2 = y$$"
      ],
      "text/plain": [
       " 2              \n",
       "x  + 3⋅x - 2 = y"
      ]
     },
     "execution_count": 97,
     "metadata": {},
     "output_type": "execute_result"
    }
   ],
   "source": [
    "eq1 = sym.Eq(x**2+x*3-2, y)\n",
    "eq1"
   ]
  },
  {
   "cell_type": "code",
   "execution_count": 98,
   "metadata": {},
   "outputs": [
    {
     "data": {
      "image/png": "[encoded data removed]",
      "text/latex": [
       "$$\\left\\{- \\frac{1}{2} \\sqrt{4 y + 17} - \\frac{3}{2}, \\frac{1}{2} \\sqrt{4 y + 17} - \\frac{3}{2}\\right\\}$$"
      ],
      "text/plain": [
       "⎧    __________        __________    ⎫\n",
       "⎪  ╲╱ 4⋅y + 17    3  ╲╱ 4⋅y + 17    3⎪\n",
       "⎨- ──────────── - ─, ──────────── - ─⎬\n",
       "⎪       2         2       2         2⎪\n",
       "⎩                                    ⎭"
      ]
     },
     "execution_count": 98,
     "metadata": {},
     "output_type": "execute_result"
    }
   ],
   "source": [
    "sym.solveset(eq1, x)"
   ]
  },
  {
   "cell_type": "code",
   "execution_count": 100,
   "metadata": {},
   "outputs": [
    {
     "data": {
      "image/png": "[encoded data removed]",
      "text/latex": [
       "$$\\left\\{- 5 i, 5 i\\right\\}$$"
      ],
      "text/plain": [
       "{-5⋅ⅈ, 5⋅ⅈ}"
      ]
     },
     "execution_count": 100,
     "metadata": {},
     "output_type": "execute_result"
    }
   ],
   "source": [
    "sym.solveset(x**2 + 25, x)"
   ]
  },
  {
   "cell_type": "code",
   "execution_count": 101,
   "metadata": {},
   "outputs": [
    {
     "data": {
      "image/png": "[encoded data removed]",
      "text/latex": [
       "$$\\emptyset$$"
      ],
      "text/plain": [
       "∅"
      ]
     },
     "execution_count": 101,
     "metadata": {},
     "output_type": "execute_result"
    }
   ],
   "source": [
    "sym.solveset(x**2 + 25, x, domain=sym.S.Reals)"
   ]
  },
  {
   "cell_type": "code",
   "execution_count": 102,
   "metadata": {},
   "outputs": [
    {
     "data": {
      "image/png": "[encoded data removed]",
      "text/latex": [
       "$$\\left\\{x\\; |\\; x \\in \\mathbb{C} \\wedge - x + \\cos{\\left (x \\right )} = 0 \\right\\}$$"
      ],
      "text/plain": [
       "{x | x ∊ ℂ ∧ -x + cos(x) = 0}"
      ]
     },
     "execution_count": 102,
     "metadata": {},
     "output_type": "execute_result"
    }
   ],
   "source": [
    "sym.solveset(sym.cos(x) -x, x)"
   ]
  },
  {
   "cell_type": "code",
   "execution_count": 105,
   "metadata": {},
   "outputs": [
    {
     "data": {
      "image/png": "[encoded data removed]",
      "text/latex": [
       "$$\\left\\{2 n \\pi + \\frac{5 \\pi}{3}\\; |\\; n \\in \\mathbb{Z}\\right\\} \\cup \\left\\{2 n \\pi + \\frac{\\pi}{3}\\; |\\; n \\in \\mathbb{Z}\\right\\}$$"
      ],
      "text/plain": [
       "⎧        5⋅π        ⎫   ⎧        π        ⎫\n",
       "⎨2⋅n⋅π + ─── | n ∊ ℤ⎬ ∪ ⎨2⋅n⋅π + ─ | n ∊ ℤ⎬\n",
       "⎩         3         ⎭   ⎩        3        ⎭"
      ]
     },
     "execution_count": 105,
     "metadata": {},
     "output_type": "execute_result"
    }
   ],
   "source": [
    "sym.solveset(2*sym.cos(x)-1, x)"
   ]
  },
  {
   "cell_type": "code",
   "execution_count": 106,
   "metadata": {},
   "outputs": [
    {
     "data": {
      "image/png": "[encoded data removed]",
      "text/latex": [
       "$$\\left [ \\frac{\\pi}{3}, \\quad \\frac{5 \\pi}{3}\\right ]$$"
      ],
      "text/plain": [
       "⎡π  5⋅π⎤\n",
       "⎢─, ───⎥\n",
       "⎣3   3 ⎦"
      ]
     },
     "execution_count": 106,
     "metadata": {},
     "output_type": "execute_result"
    }
   ],
   "source": [
    "sym.solve(2*sym.cos(x)-1, x)"
   ]
  },
  {
   "cell_type": "markdown",
   "metadata": {},
   "source": [
    "Exercices : \n",
    "$z2=2$"
   ]
  },
  {
   "cell_type": "code",
   "execution_count": 124,
   "metadata": {},
   "outputs": [
    {
     "data": {
      "image/png": "[encoded data removed]",
      "text/latex": [
       "$$\\left\\{- \\sqrt{2}, \\sqrt{2}\\right\\}$$"
      ],
      "text/plain": [
       "{-√2, √2}"
      ]
     },
     "execution_count": 124,
     "metadata": {},
     "output_type": "execute_result"
    }
   ],
   "source": [
    "expr = z**2 - 2\n",
    "sym.solveset(expr, z, domain=sym.S.Reals)"
   ]
  },
  {
   "cell_type": "markdown",
   "metadata": {},
   "source": [
    "$z^2 + 2z + (1 − 2i) = 0$"
   ]
  },
  {
   "cell_type": "code",
   "execution_count": null,
   "metadata": {
    "collapsed": true
   },
   "outputs": [],
   "source": [
    "sym.solveset(z**2 + z*2 + (1-2*sym.I), z)"
   ]
  },
  {
   "cell_type": "markdown",
   "metadata": {},
   "source": [
    "$z^2 − (3 + 4i)z + (5i − 1) = 0$"
   ]
  },
  {
   "cell_type": "code",
   "execution_count": 115,
   "metadata": {},
   "outputs": [
    {
     "data": {
      "image/png": "[encoded data removed]",
      "text/latex": [
       "$$\\left\\{1 + i, 2 + 3 i\\right\\}$$"
      ],
      "text/plain": [
       "{1 + ⅈ, 2 + 3⋅ⅈ}"
      ]
     },
     "execution_count": 115,
     "metadata": {},
     "output_type": "execute_result"
    }
   ],
   "source": [
    "sym.solveset(z**2 - (3+4*sym.I)*z + (5*sym.I - 1), z)"
   ]
  },
  {
   "cell_type": "code",
   "execution_count": 7,
   "metadata": {},
   "outputs": [
    {
     "ename": "NameError",
     "evalue": "name 'x' is not defined",
     "output_type": "error",
     "traceback": [
      "\u001b[0;31m---------------------------------------------------------------------------\u001b[0m",
      "\u001b[0;31mNameError\u001b[0m                                 Traceback (most recent call last)",
      "\u001b[0;32m<ipython-input-7-0d3dee2816b1>\u001b[0m in \u001b[0;36m<module>\u001b[0;34m()\u001b[0m\n\u001b[0;32m----> 1\u001b[0;31m \u001b[0mexpr\u001b[0m \u001b[0;34m=\u001b[0m \u001b[0mx\u001b[0m\u001b[0;34m*\u001b[0m\u001b[0my\u001b[0m \u001b[0;34m-\u001b[0m \u001b[0mx\u001b[0m\u001b[0;34m/\u001b[0m\u001b[0my\u001b[0m\u001b[0;34m\u001b[0m\u001b[0m\n\u001b[0m\u001b[1;32m      2\u001b[0m \u001b[0mprint\u001b[0m\u001b[0;34m(\u001b[0m\u001b[0msym\u001b[0m\u001b[0;34m.\u001b[0m\u001b[0msolveset\u001b[0m\u001b[0;34m(\u001b[0m\u001b[0mexpr\u001b[0m\u001b[0;34m,\u001b[0m \u001b[0my\u001b[0m\u001b[0;34m)\u001b[0m\u001b[0;34m)\u001b[0m\u001b[0;34m\u001b[0m\u001b[0m\n\u001b[1;32m      3\u001b[0m \u001b[0mprint\u001b[0m\u001b[0;34m(\u001b[0m\u001b[0msym\u001b[0m\u001b[0;34m.\u001b[0m\u001b[0msolveset\u001b[0m\u001b[0;34m(\u001b[0m\u001b[0mexpr\u001b[0m\u001b[0;34m,\u001b[0m \u001b[0mx\u001b[0m\u001b[0;34m)\u001b[0m\u001b[0;34m)\u001b[0m\u001b[0;34m\u001b[0m\u001b[0m\n",
      "\u001b[0;31mNameError\u001b[0m: name 'x' is not defined"
     ]
    }
   ],
   "source": [
    "expr = x*y - x/y\n",
    "print(sym.solveset(expr, y))\n",
    "print(sym.solveset(expr, x))"
   ]
  },
  {
   "cell_type": "code",
   "execution_count": 2,
   "metadata": {
    "collapsed": true
   },
   "outputs": [],
   "source": [
    "def itp(n) :\n",
    "    return n**2 - 79*n + 1601"
   ]
  },
  {
   "cell_type": "code",
   "execution_count": 5,
   "metadata": {},
   "outputs": [
    {
     "name": "stdout",
     "output_type": "stream",
     "text": [
      "0\n",
      "[1601]\n",
      "1\n",
      "[1523]\n",
      "2\n",
      "[1447]\n",
      "3\n",
      "[1373]\n",
      "4\n",
      "[1301]\n",
      "5\n",
      "[1231]\n",
      "6\n",
      "[1163]\n",
      "7\n",
      "[1097]\n",
      "8\n",
      "[1033]\n",
      "9\n",
      "[971]\n",
      "10\n",
      "[911]\n",
      "11\n",
      "[853]\n",
      "12\n",
      "[797]\n",
      "13\n",
      "[743]\n",
      "14\n",
      "[691]\n",
      "15\n",
      "[641]\n",
      "16\n",
      "[593]\n",
      "17\n",
      "[547]\n",
      "18\n",
      "[503]\n",
      "19\n",
      "[461]\n",
      "20\n",
      "[421]\n",
      "21\n",
      "[383]\n",
      "22\n",
      "[347]\n",
      "23\n",
      "[313]\n",
      "24\n",
      "[281]\n",
      "25\n",
      "[251]\n",
      "26\n",
      "[223]\n",
      "27\n",
      "[197]\n",
      "28\n",
      "[173]\n",
      "29\n",
      "[151]\n",
      "30\n",
      "[131]\n",
      "31\n",
      "[113]\n",
      "32\n",
      "[97]\n",
      "33\n",
      "[83]\n",
      "34\n",
      "[71]\n",
      "35\n",
      "[61]\n",
      "36\n",
      "[53]\n",
      "37\n",
      "[47]\n",
      "38\n",
      "[43]\n",
      "39\n",
      "[41]\n",
      "40\n",
      "[41]\n",
      "41\n",
      "[43]\n",
      "42\n",
      "[47]\n",
      "43\n",
      "[53]\n",
      "44\n",
      "[61]\n",
      "45\n",
      "[71]\n",
      "46\n",
      "[83]\n",
      "47\n",
      "[97]\n",
      "48\n",
      "[113]\n",
      "49\n",
      "[131]\n",
      "50\n",
      "[151]\n",
      "51\n",
      "[173]\n",
      "52\n",
      "[197]\n",
      "53\n",
      "[223]\n",
      "54\n",
      "[251]\n",
      "55\n",
      "[281]\n",
      "56\n",
      "[313]\n",
      "57\n",
      "[347]\n",
      "58\n",
      "[383]\n",
      "59\n",
      "[421]\n",
      "60\n",
      "[461]\n",
      "61\n",
      "[503]\n",
      "62\n",
      "[547]\n",
      "63\n",
      "[593]\n",
      "64\n",
      "[641]\n",
      "65\n",
      "[691]\n",
      "66\n",
      "[743]\n",
      "67\n",
      "[797]\n",
      "68\n",
      "[853]\n",
      "69\n",
      "[911]\n",
      "70\n",
      "[971]\n",
      "71\n",
      "[1033]\n",
      "72\n",
      "[1097]\n",
      "73\n",
      "[1163]\n",
      "74\n",
      "[1231]\n",
      "75\n",
      "[1301]\n",
      "76\n",
      "[1373]\n",
      "77\n",
      "[1447]\n",
      "78\n",
      "[1523]\n",
      "79\n",
      "[1601]\n"
     ]
    }
   ],
   "source": [
    "var = 0\n",
    "test2 = False\n",
    "while test2 == False :\n",
    "    #if sym.isprime(itp(var)) :\n",
    "    #   print(var)\n",
    "    pt2 = itp(var)\n",
    "    #print(pt2)\n",
    "    if sym.isprime(pt2) :\n",
    "        print(var)\n",
    "        print(sym.primefactors(pt2))\n",
    "    else :\n",
    "        test2 = True\n",
    "    var+=1"
   ]
  },
  {
   "cell_type": "code",
   "execution_count": 19,
   "metadata": {
    "collapsed": true
   },
   "outputs": [],
   "source": [
    "z = sym.symbols('z')\n",
    "eq = sym.Eq(z**2)"
   ]
  },
  {
   "cell_type": "code",
   "execution_count": 20,
   "metadata": {},
   "outputs": [
    {
     "data": {
      "text/plain": [
       "[]"
      ]
     },
     "execution_count": 20,
     "metadata": {},
     "output_type": "execute_result"
    }
   ],
   "source": [
    "sym.solve(eq,2)"
   ]
  },
  {
   "cell_type": "code",
   "execution_count": null,
   "metadata": {
    "collapsed": true
   },
   "outputs": [],
   "source": []
  }
 ],
 "metadata": {
  "kernelspec": {
   "display_name": "Python 3",
   "language": "python",
   "name": "python3"
  },
  "language_info": {
   "codemirror_mode": {
    "name": "ipython",
    "version": 3
   },
   "file_extension": ".py",
   "mimetype": "text/x-python",
   "name": "python",
   "nbconvert_exporter": "python",
   "pygments_lexer": "ipython3",
   "version": "3.6.1"
  }
 },
 "nbformat": 4,
 "nbformat_minor": 2
}
